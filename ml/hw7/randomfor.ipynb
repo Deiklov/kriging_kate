{
 "cells": [
  {
   "cell_type": "code",
   "execution_count": 59,
   "metadata": {},
   "outputs": [],
   "source": [
    "import numpy as np\n",
    "from sklearn.tree import DecisionTreeClassifier\n",
    "np.random.seed(42)\n",
    "\n",
    "N_ESTIMATORS = 4\n",
    "MAX_DEPTH = 15\n",
    "SUBSPACE_DIM = 2\n",
    "\n",
    "\n",
    "class sample(object):\n",
    "    def __init__(self, X, n_subspace):\n",
    "        self.idx_subspace: np.ndarray = self.random_subspace(X, n_subspace)\n",
    "\n",
    "    def __call__(self, X, y):\n",
    "        idx_obj = self.bootstrap_sample(X)\n",
    "        X_sampled, y_sampled = self.get_subsample(\n",
    "            X, y, self.idx_subspace, idx_obj)\n",
    "        return X_sampled, y_sampled\n",
    "\n",
    "    @staticmethod\n",
    "    def bootstrap_sample(X, random_state=42):\n",
    "        \"\"\"\n",
    "        Заполните тело этой функции таким образом, чтобы она возвращала массив индексов выбранных при помощи бэггинга индексов.\n",
    "        Пользуйтесь только инструментами, реализованными в numpy.random, выставляя везде, где это необходимо, random_state=42\n",
    "        \"\"\"\n",
    "        arr = np.random.choice(len(X), size=len(X), replace=True)\n",
    "\n",
    "        uniq_idxes = np.unique(arr)\n",
    "        return uniq_idxes\n",
    "\n",
    "    @staticmethod\n",
    "    def random_subspace(X, n_subspace, random_state=42):\n",
    "        first_elem = X[0]\n",
    "        idxes = np.random.choice(\n",
    "            len(first_elem), size=n_subspace, replace=False)\n",
    "        return idxes\n",
    "\n",
    "    @staticmethod\n",
    "    def get_subsample(X, y, idx_subspace, idx_obj):\n",
    "        \"\"\"\n",
    "        Заполните тело этой функции таким образом, чтобы она возвращала подвыборку x_sampled, y_sampled\n",
    "        по значениям индексов признаков(idx_subspace) и объектов(idx_obj) , которые должны в неё попасть\n",
    "        \"\"\"\n",
    "\n",
    "        return X[np.ix_(idx_obj, idx_subspace)], y[idx_obj]\n",
    "\n",
    "\n",
    "class random_forest(object):\n",
    "    def __init__(self, n_estimators: int, max_depth: int, subspaces_dim: int, random_state: int):\n",
    "        self.n_estimators = n_estimators\n",
    "        self.max_depth = max_depth\n",
    "        self.subspaces_dim = subspaces_dim\n",
    "        self.random_state = random_state\n",
    "        self._estimators: list[tuple(DecisionTreeClassifier, np.ndarray)] = []\n",
    "\n",
    "        \"\"\"\n",
    "      Задайте все необходимые поля в рамках конструктора класса\n",
    "    \"\"\"\n",
    "\n",
    "    def fit(self, X, y):\n",
    "        for i in range(self.n_estimators):\n",
    "            selecter = sample(X, self.subspaces_dim)\n",
    "\n",
    "            model = DecisionTreeClassifier(\n",
    "                max_depth=self.max_depth, random_state=self.random_state)\n",
    "\n",
    "            X_sample, y_sample = selecter.get_subsample(\n",
    "                X, y, selecter.idx_subspace, selecter.bootstrap_sample(X))\n",
    "\n",
    "            model.fit(X_sample, y_sample)\n",
    "            self._estimators.append((model, selecter.idx_subspace))\n",
    "\n",
    "    def predict(self, X):\n",
    "        res = []\n",
    "        for i in range(self.n_estimators):\n",
    "            res.append(self._estimators[i][0].predict(X[:,self._estimators[i][1]]))\n",
    "        res=np.array(res)\n",
    "        most_popular_elements = []\n",
    "        for col in range(res.shape[1]):\n",
    "            column_values = res[:, col]\n",
    "            mode = np.argmax(np.bincount(column_values))\n",
    "            most_popular_elements.append(mode)\n",
    "        \n",
    "        \n",
    "            \n",
    "        return np.array(most_popular_elements)"
   ]
  },
  {
   "cell_type": "code",
   "execution_count": 28,
   "metadata": {},
   "outputs": [],
   "source": [
    "import numpy as np\n",
    "from sklearn.datasets import load_iris\n",
    "from sklearn.model_selection import train_test_split\n",
    "from sklearn.tree import DecisionTreeClassifier\n",
    "from sklearn.metrics import classification_report, confusion_matrix"
   ]
  },
  {
   "cell_type": "code",
   "execution_count": 29,
   "metadata": {},
   "outputs": [],
   "source": [
    "iris = load_iris()\n",
    "X = iris.data\n",
    "y = iris.target\n",
    "X_train, X_test, y_train, y_test = train_test_split(X, y, test_size=0.3, random_state=0)"
   ]
  },
  {
   "cell_type": "code",
   "execution_count": 64,
   "metadata": {},
   "outputs": [],
   "source": [
    "tree = random_forest(4, 15, 2, 42)\n",
    "tree.fit(X_train, y_train)"
   ]
  },
  {
   "cell_type": "code",
   "execution_count": 65,
   "metadata": {},
   "outputs": [
    {
     "data": {
      "text/plain": [
       "1.0"
      ]
     },
     "execution_count": 65,
     "metadata": {},
     "output_type": "execute_result"
    }
   ],
   "source": [
    "from sklearn.metrics import accuracy_score\n",
    "\n",
    "\n",
    "preds = tree.predict(X_test)\n",
    "preds\n",
    "accuracy_score(preds,y_test)"
   ]
  }
 ],
 "metadata": {
  "kernelspec": {
   "display_name": "Python 3",
   "language": "python",
   "name": "python3"
  },
  "language_info": {
   "codemirror_mode": {
    "name": "ipython",
    "version": 3
   },
   "file_extension": ".py",
   "mimetype": "text/x-python",
   "name": "python",
   "nbconvert_exporter": "python",
   "pygments_lexer": "ipython3",
   "version": "3.11.4"
  }
 },
 "nbformat": 4,
 "nbformat_minor": 2
}
