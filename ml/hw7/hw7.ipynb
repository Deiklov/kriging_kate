{
 "cells": [
  {
   "cell_type": "code",
   "execution_count": 4,
   "metadata": {},
   "outputs": [],
   "source": [
    "import numpy as np\n",
    "\n",
    "\n",
    "class sample(object):\n",
    "    def __init__(self, X, n_subspace):\n",
    "        self.idx_subspace = self.random_subspace(X, n_subspace)\n",
    "\n",
    "    def __call__(self, X, y):\n",
    "        idx_obj = self.bootstrap_sample(X)\n",
    "        X_sampled, y_sampled = self.get_subsample(\n",
    "            X, y, self.idx_subspace, idx_obj)\n",
    "        return X_sampled, y_sampled\n",
    "\n",
    "    @staticmethod\n",
    "    def bootstrap_sample(X, random_state=42):\n",
    "        \"\"\"\n",
    "        Заполните тело этой функции таким образом, чтобы она возвращала массив индексов выбранных при помощи бэггинга индексов.\n",
    "        Пользуйтесь только инструментами, реализованными в numpy.random, выставляя везде, где это необходимо, random_state=42\n",
    "        \"\"\"\n",
    "        arr = np.random.choice(len(X), size=len(X), replace=True)\n",
    "\n",
    "        uniq_idxes = np.unique(arr)\n",
    "        return uniq_idxes\n",
    "\n",
    "    @staticmethod\n",
    "    def random_subspace(X, n_subspace, random_state=42):\n",
    "        first_elem = X[0]\n",
    "        idxes = np.random.choice(\n",
    "            len(first_elem), size=n_subspace, replace=False)\n",
    "        return idxes\n",
    "\n",
    "    @staticmethod\n",
    "    def get_subsample(X, y, idx_subspace, idx_obj):\n",
    "        \"\"\"\n",
    "        Заполните тело этой функции таким образом, чтобы она возвращала подвыборку x_sampled, y_sampled\n",
    "        по значениям индексов признаков(idx_subspace) и объектов(idx_obj) , которые должны в неё попасть\n",
    "        \"\"\"\n",
    "\n",
    "        return X[np.ix_(idx_obj, idx_subspace)], y[idx_obj]"
   ]
  },
  {
   "cell_type": "code",
   "execution_count": 5,
   "metadata": {},
   "outputs": [],
   "source": [
    "X = np.array([[1,2,3], [4,5,6], [7,8,9]])\n",
    "Y = np.array([1, 2, 3])\n",
    "s = sample(X, 2)\n",
    "\n",
    "bootstrap_indices = s.bootstrap_sample(X)\n",
    "X_sampled, y_sampled = s.get_subsample(X, Y, s.idx_subspace, bootstrap_indices)"
   ]
  },
  {
   "cell_type": "code",
   "execution_count": 6,
   "metadata": {},
   "outputs": [
    {
     "data": {
      "text/plain": [
       "array([1, 2])"
      ]
     },
     "execution_count": 6,
     "metadata": {},
     "output_type": "execute_result"
    }
   ],
   "source": [
    "# Строки, выбранные из исходного массива X\n",
    "bootstrap_indices"
   ]
  },
  {
   "cell_type": "code",
   "execution_count": 7,
   "metadata": {},
   "outputs": [
    {
     "data": {
      "text/plain": [
       "array([0, 1])"
      ]
     },
     "execution_count": 7,
     "metadata": {},
     "output_type": "execute_result"
    }
   ],
   "source": [
    "# Столбцы, выбранные из исходного массива X\n",
    "s.idx_subspace"
   ]
  },
  {
   "cell_type": "code",
   "execution_count": 8,
   "metadata": {},
   "outputs": [
    {
     "data": {
      "text/plain": [
       "array([[4, 5],\n",
       "       [7, 8]])"
      ]
     },
     "execution_count": 8,
     "metadata": {},
     "output_type": "execute_result"
    }
   ],
   "source": [
    "# Матрица на выходе\n",
    "X_sampled"
   ]
  },
  {
   "cell_type": "code",
   "execution_count": 9,
   "metadata": {},
   "outputs": [
    {
     "data": {
      "text/plain": [
       "array([2, 3])"
      ]
     },
     "execution_count": 9,
     "metadata": {},
     "output_type": "execute_result"
    }
   ],
   "source": [
    "# Вектор ответов на выходе\n",
    "y_sampled"
   ]
  },
  {
   "cell_type": "code",
   "execution_count": null,
   "metadata": {},
   "outputs": [],
   "source": []
  }
 ],
 "metadata": {
  "kernelspec": {
   "display_name": "Python 3",
   "language": "python",
   "name": "python3"
  },
  "language_info": {
   "codemirror_mode": {
    "name": "ipython",
    "version": 3
   },
   "file_extension": ".py",
   "mimetype": "text/x-python",
   "name": "python",
   "nbconvert_exporter": "python",
   "pygments_lexer": "ipython3",
   "version": "3.11.4"
  }
 },
 "nbformat": 4,
 "nbformat_minor": 2
}
