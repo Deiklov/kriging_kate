{
 "cells": [
  {
   "cell_type": "code",
   "execution_count": 1,
   "metadata": {},
   "outputs": [
    {
     "name": "stderr",
     "output_type": "stream",
     "text": [
      "/usr/local/lib/python3.11/site-packages/sklearn/datasets/_openml.py:1022: FutureWarning: The default value of `parser` will change from `'liac-arff'` to `'auto'` in 1.4. You can set `parser='auto'` to silence this warning. Therefore, an `ImportError` will be raised from 1.4 if the dataset is dense and pandas is not installed. Note that the pandas parser may return different data types. See the Notes Section in fetch_openml's API doc for details.\n",
      "  warn(\n"
     ]
    }
   ],
   "source": [
    "from matplotlib.pyplot import sca\n",
    "from sklearn.datasets import fetch_openml\n",
    "from sklearn.metrics import roc_auc_score\n",
    "from sklearn.model_selection import train_test_split\n",
    "from sklearn.neighbors import KNeighborsClassifier\n",
    "from sklearn.linear_model import LogisticRegression\n",
    "from sklearn.tree import DecisionTreeClassifier\n",
    "from sklearn.svm import SVC\n",
    "from sklearn.preprocessing import StandardScaler\n",
    "\"\"\"\n",
    "TODO: make additional imports here\n",
    "\"\"\"\n",
    "\n",
    "data = fetch_openml(data_id=42608)\n",
    "X, y = data['data'].drop(\n",
    "    columns='Outcome').values, data['data']['Outcome'].astype(int).values\n",
    "\n",
    "X_train, x_test, y_train, y_test = train_test_split(\n",
    "    X, y, test_size=0.3, random_state=42\n",
    ")"
   ]
  },
  {
   "cell_type": "code",
   "execution_count": 8,
   "metadata": {},
   "outputs": [
    {
     "name": "stdout",
     "output_type": "stream",
     "text": [
      "ROC AUC Score: 0.7043046357615894\n",
      "PR AUC Score: 0.6819480519480519\n",
      "ROC AUC Score: 0.7978476821192053\n",
      "PR AUC Score: 0.6635189014200681\n",
      "ROC AUC Score: 0.7504552980132451\n",
      "PR AUC Score: 0.5876288276242685\n",
      "ROC AUC Score: 0.7973509933774834\n",
      "PR AUC Score: 0.646433465148704\n"
     ]
    }
   ],
   "source": [
    "from sklearn.metrics import precision_recall_curve, auc\n",
    "scaler = StandardScaler()\n",
    "X_train_scaled = scaler.fit_transform(X_train)\n",
    "x_test_scaled = scaler.transform(x_test)\n",
    "\"\"\"\n",
    "In the following part of code specify algorithms with their own parameters by yourself\n",
    "\"\"\"\n",
    "tree = DecisionTreeClassifier(random_state=42)\n",
    "lr = LogisticRegression(random_state=42)\n",
    "knn = KNeighborsClassifier(n_neighbors=5)\n",
    "svm = SVC(probability=True, random_state=42)\n",
    "\n",
    "all_models=[tree, lr, knn, svm]\n",
    "\n",
    "for model in all_models:\n",
    "    model.fit(X_train_scaled, y_train)\n",
    "    y_pred=model.predict_proba(x_test_scaled)[:,1]\n",
    "    # Calculate the AUC score\n",
    "    auc_score = roc_auc_score(y_test, y_pred)\n",
    "    print(\"ROC AUC Score:\", auc_score)\n",
    "    # Calculate the precision, recall, and thresholds\n",
    "    precision, recall, thresholds = precision_recall_curve(y_test, y_pred)\n",
    "\n",
    "    # Calculate the PR AUC score\n",
    "    pr_auc_score = auc(recall, precision)\n",
    "    print(\"PR AUC Score:\", pr_auc_score)"
   ]
  }
 ],
 "metadata": {
  "kernelspec": {
   "display_name": "Python 3",
   "language": "python",
   "name": "python3"
  },
  "language_info": {
   "codemirror_mode": {
    "name": "ipython",
    "version": 3
   },
   "file_extension": ".py",
   "mimetype": "text/x-python",
   "name": "python",
   "nbconvert_exporter": "python",
   "pygments_lexer": "ipython3",
   "version": "3.11.4"
  }
 },
 "nbformat": 4,
 "nbformat_minor": 2
}
