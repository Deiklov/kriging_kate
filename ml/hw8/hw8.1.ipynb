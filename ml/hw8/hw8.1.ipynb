{
 "cells": [
  {
   "cell_type": "code",
   "execution_count": null,
   "metadata": {},
   "outputs": [],
   "source": [
    "import numpy\n",
    "\n",
    "\n",
    "def precision(y_true, y_pred):\n",
    "    \"\"\"\n",
    "      TODO: Заполните тело функции вычисления точности предсказания\n",
    "    \"\"\"\n",
    "    values = {\n",
    "        \"FP\": (y_pred * (1 - y_true)).sum(),\n",
    "        \"TP\": (y_pred * y_true).sum(),\n",
    "        \"TN\": ((1 - y_pred) * (1 - y_true)).sum(),\n",
    "        \"FN\": ((1 - y_pred) * y_true).sum()\n",
    "    }\n",
    "    return values[\"TP\"]/(values[\"TP\"]+values[\"FP\"])\n",
    "\n",
    "\n",
    "def recall(y_true, y_pred):\n",
    "    \"\"\"\n",
    "      TODO: Заполните тело функции вычисления полноты предсказания\n",
    "    \"\"\"\n",
    "    values = {\n",
    "        \"FP\": (y_pred * (1 - y_true)).sum(),\n",
    "        \"TP\": (y_pred * y_true).sum(),\n",
    "        \"TN\": ((1 - y_pred) * (1 - y_true)).sum(),\n",
    "        \"FN\": ((1 - y_pred) * y_true).sum()\n",
    "    }\n",
    "    return values[\"TP\"]/(values[\"TP\"]+values[\"FN\"])\n",
    "\n",
    "\n",
    "def f1(y_true, y_pred):\n",
    "    \"\"\"\n",
    "      TODO: Заполните тело функции вычисления f1-меры предсказания\n",
    "    \"\"\"\n",
    "    prec = precision(y_true, y_pred)\n",
    "    rec = recall(y_true, y_pred)\n",
    "    return 2*prec*rec/(prec+rec)"
   ]
  },
  {
   "cell_type": "code",
   "execution_count": null,
   "metadata": {},
   "outputs": [],
   "source": []
  },
  {
   "cell_type": "code",
   "execution_count": null,
   "metadata": {},
   "outputs": [],
   "source": []
  }
 ],
 "metadata": {
  "language_info": {
   "name": "python"
  }
 },
 "nbformat": 4,
 "nbformat_minor": 2
}
