{
 "cells": [
  {
   "cell_type": "code",
   "execution_count": 24,
   "metadata": {},
   "outputs": [],
   "source": [
    "import os\n",
    "import numpy as np\n",
    "from sklearn.linear_model import LinearRegression"
   ]
  },
  {
   "cell_type": "code",
   "execution_count": 25,
   "metadata": {},
   "outputs": [
    {
     "name": "stdout",
     "output_type": "stream",
     "text": [
      "5.npy 0.848322909283604\n",
      "4.npy 0.18606626924708636\n",
      "3.npy 0.9436398449037311\n",
      "2.npy 0.6049683606213805\n",
      "1.npy 0.8804493891389981\n"
     ]
    }
   ],
   "source": [
    "dir='drive-download-20231105T065539Z-001'\n",
    "for filename in os.listdir(dir):\n",
    "    if filename.endswith('.npy'):\n",
    "        x = np.load(os.path.join(dir,filename))\n",
    "        X=x[:,0].reshape(-1,1)\n",
    "        Y=x[:,1].reshape(-1,1)\n",
    "        reg = LinearRegression().fit(X, Y)\n",
    "        \n",
    "        print(filename,reg.score(X,Y))"
   ]
  }
 ],
 "metadata": {
  "kernelspec": {
   "display_name": "Python 3",
   "language": "python",
   "name": "python3"
  },
  "language_info": {
   "codemirror_mode": {
    "name": "ipython",
    "version": 3
   },
   "file_extension": ".py",
   "mimetype": "text/x-python",
   "name": "python",
   "nbconvert_exporter": "python",
   "pygments_lexer": "ipython3",
   "version": "3.11.4"
  }
 },
 "nbformat": 4,
 "nbformat_minor": 2
}
