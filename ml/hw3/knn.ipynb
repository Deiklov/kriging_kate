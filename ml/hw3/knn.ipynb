{
 "cells": [
  {
   "cell_type": "code",
   "execution_count": 4,
   "metadata": {},
   "outputs": [],
   "source": [
    "import numpy as np\n",
    "from collections import Counter\n",
    "\n",
    "\n",
    "class KNN_classifier:\n",
    "    def __init__(self, n_neighbors: int, **kwargs):\n",
    "        self.K = n_neighbors\n",
    "\n",
    "    def fit(self, x: np.array, y: np.array):\n",
    "        self.X_train = x\n",
    "        self.y_train = y\n",
    "        # TODO: напишите метод .fit() класса KNN_classifier\n",
    "        # Эта функция принимает на вход два массива:\n",
    "        # - x (набор признаков, массив размерности n x m, n - число объектов, m - размерность признакового описания)\n",
    "        # - y (метки для обучения, одномерный массив размерности n)\n",
    "        # Эта функция ничего не возвращает, она должна настроить внутренние параметры модели для дальнейшего использования\n",
    "        # Подумайте, в чем заключается процесс обучения именно этого алгоритма?\n",
    "        # Что этот алгоритм делает в тот момент, когда он получил обучающую выборку?\n",
    "        # Реализуйте эту логику в коде\n",
    "\n",
    "    def _predict(self, x):\n",
    "        distances = [np.linalg.norm(x-x_train) for x_train in self.X_train]\n",
    "        k_indices = np.argsort(distances)[:self.K]\n",
    "        k_nearest_labels = [self.y_train[i] for i in k_indices]\n",
    "        most_common = Counter(k_nearest_labels).most_common(1)\n",
    "        return most_common[0][0]\n",
    "\n",
    "    def predict(self, x: np.array):\n",
    "        predictions = [self._predict(el) for el in x]\n",
    "\n",
    "        # TODO: напишите метод .predict(x) класса KNN_classifier\n",
    "        # Этот метод принимает на вход один массив x. Массив x - это двумерный массив объектов, для которых требуется получить предсказание\n",
    "        # На выходе этой функции мы хотим получить одномерный массив predictions, размерности x.shape[0] (то есть для каждогго объекта массива x мы сделали своё предсказание)\n",
    "        # Вспомните, как алгоритм KNN делает предсказание?\n",
    "        # Реализуйте эту логику в коде\n",
    "        predictions = np.array(predictions)\n",
    "        return predictions"
   ]
  },
  {
   "cell_type": "code",
   "execution_count": 7,
   "metadata": {},
   "outputs": [
    {
     "name": "stdout",
     "output_type": "stream",
     "text": [
      "[1 0 0]\n"
     ]
    }
   ],
   "source": [
    "# Example usage\n",
    "X_train = np.array([[ 0.56510722,  0.68599596, -0.92388505, -0.29546048, -0.12437532],\n",
    "       [-0.79617537,  0.98406791,  1.19542652, -0.05626863, -0.69868076],\n",
    "       [ 0.9629688 , -1.00423925, -0.53842833, -0.23744358,  0.83226685],\n",
    "       [ 0.24671269, -0.41624448,  0.81679337,  1.59227446,  0.16192583],\n",
    "       [-0.36972363,  0.17425997,  1.33668078,  1.16687907,  0.31709134],\n",
    "       [-1.30482844, -0.05354323, -0.88862186, -1.121785  , -0.78442809],\n",
    "       [-0.53975018,  0.90074877, -1.09317408,  1.52989481, -0.43375015],\n",
    "       [-0.64709803, -0.09775791,  1.3506503 , -1.46957788,  1.63325543],\n",
    "       [-0.73858464, -0.60678229,  0.31420272, -0.43100129, -0.37665876],\n",
    "       [-0.29208809, -0.68795722,  0.06586655,  0.9583851 ,  1.70640775]])\n",
    "y_train = np.array([1, 0, 0, 1, 0, 1, 0, 1, 0, 1])\n",
    "\n",
    "X_test = np.array([[-0.12489725,  0.65791923, -0.73112495,  1.42660225,  1.64728976],\n",
    "       [ 0.01913388, -1.11351208, -0.63244098, -0.98121107,  0.38060892],\n",
    "       [-0.92074931,  1.39812225,  0.39692147,  0.7717827 ,  0.44604002]])\n",
    "\n",
    "k = 3\n",
    "knn = KNN_classifier(k)\n",
    "knn.fit(X_train, y_train)\n",
    "predictions = knn.predict(X_test)\n",
    "\n",
    "print(predictions) # Output: [0 1]"
   ]
  }
 ],
 "metadata": {
  "kernelspec": {
   "display_name": "Python 3",
   "language": "python",
   "name": "python3"
  },
  "language_info": {
   "codemirror_mode": {
    "name": "ipython",
    "version": 3
   },
   "file_extension": ".py",
   "mimetype": "text/x-python",
   "name": "python",
   "nbconvert_exporter": "python",
   "pygments_lexer": "ipython3",
   "version": "3.11.4"
  }
 },
 "nbformat": 4,
 "nbformat_minor": 2
}
